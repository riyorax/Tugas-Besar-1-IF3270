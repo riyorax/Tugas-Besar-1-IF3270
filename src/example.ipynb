{
 "cells": [
  {
   "cell_type": "markdown",
   "metadata": {},
   "source": [
    "# IF3270 Pembelajaran Mesin | Tugas Besar - Feedforward Neural Network"
   ]
  },
  {
   "cell_type": "markdown",
   "metadata": {},
   "source": [
    "Group Members:\n",
    "- Maximilian Sulistiyo (13522061)\n",
    "- Marvel Pangondian (13522075)\n",
    "- Abdullah Mubarak (13522101)"
   ]
  },
  {
   "cell_type": "markdown",
   "metadata": {},
   "source": [
    "In this project, we implement a custom built Feedforward Neural Network with no high-level libraries. The goal in this project is to be able to create a custom FFNN that is able to specify the type of activation function on each layer, the type of loss function, and how many neurons in each layer. We will also compare our algorithm with other built in algorithm (the sklearn MLP)"
   ]
  },
  {
   "cell_type": "markdown",
   "metadata": {},
   "source": [
    "## Import Libraries"
   ]
  },
  {
   "cell_type": "code",
   "execution_count": 15,
   "metadata": {},
   "outputs": [],
   "source": [
    "import numpy as np\n",
    "import pandas as pd\n",
    "from ann import NeuralNetwork, one_hot, get_accuracy\n",
    "from dense_layer import DenseLayer\n",
    "from activations import *\n",
    "from visualizer import visualize_ann\n",
    "import matplotlib.pyplot as plt\n",
    "from sklearn.datasets import fetch_openml\n",
    "from sklearn.model_selection import train_test_split\n",
    "from sklearn.neural_network import MLPClassifier\n",
    "from sklearn.metrics import accuracy_score, classification_report\n",
    "from activations import tanh, sigmoid, relu"
   ]
  },
  {
   "cell_type": "markdown",
   "metadata": {},
   "source": [
    "## Import Dataset"
   ]
  },
  {
   "cell_type": "markdown",
   "metadata": {},
   "source": [
    "### Fetch dataset"
   ]
  },
  {
   "cell_type": "code",
   "execution_count": 16,
   "metadata": {},
   "outputs": [],
   "source": [
    "X, y = fetch_openml(\"mnist_784\", version=1, return_X_y=True, as_frame=False)"
   ]
  },
  {
   "cell_type": "code",
   "execution_count": 17,
   "metadata": {},
   "outputs": [
    {
     "data": {
      "text/plain": [
       "(70000, 784)"
      ]
     },
     "execution_count": 17,
     "metadata": {},
     "output_type": "execute_result"
    }
   ],
   "source": [
    "X.shape"
   ]
  },
  {
   "cell_type": "code",
   "execution_count": 18,
   "metadata": {},
   "outputs": [
    {
     "data": {
      "text/plain": [
       "(70000,)"
      ]
     },
     "execution_count": 18,
     "metadata": {},
     "output_type": "execute_result"
    }
   ],
   "source": [
    "y.shape"
   ]
  },
  {
   "cell_type": "markdown",
   "metadata": {},
   "source": [
    "### Copy dataset and normalize"
   ]
  },
  {
   "cell_type": "code",
   "execution_count": 19,
   "metadata": {},
   "outputs": [],
   "source": [
    "X_original = X.copy()\n",
    "X_original = X_original/255.0\n",
    "y_original = y.copy()\n",
    "y_original = y_original.astype(int)"
   ]
  },
  {
   "cell_type": "markdown",
   "metadata": {},
   "source": [
    "### Split dataset"
   ]
  },
  {
   "cell_type": "code",
   "execution_count": 20,
   "metadata": {},
   "outputs": [],
   "source": [
    "X_train = X_original[:60000]\n",
    "y_train = y_original[:60000]\n",
    "\n",
    "X_test = X_original[60000:]\n",
    "y_test = y_original[60000:]"
   ]
  },
  {
   "cell_type": "code",
   "execution_count": 21,
   "metadata": {},
   "outputs": [
    {
     "data": {
      "text/plain": [
       "(60000, 784)"
      ]
     },
     "execution_count": 21,
     "metadata": {},
     "output_type": "execute_result"
    }
   ],
   "source": [
    "X_train.shape"
   ]
  },
  {
   "cell_type": "code",
   "execution_count": 22,
   "metadata": {},
   "outputs": [
    {
     "data": {
      "text/plain": [
       "(60000,)"
      ]
     },
     "execution_count": 22,
     "metadata": {},
     "output_type": "execute_result"
    }
   ],
   "source": [
    "y_train.shape"
   ]
  },
  {
   "cell_type": "code",
   "execution_count": 23,
   "metadata": {},
   "outputs": [
    {
     "data": {
      "text/plain": [
       "(10000, 784)"
      ]
     },
     "execution_count": 23,
     "metadata": {},
     "output_type": "execute_result"
    }
   ],
   "source": [
    "X_test.shape"
   ]
  },
  {
   "cell_type": "code",
   "execution_count": 24,
   "metadata": {},
   "outputs": [
    {
     "data": {
      "text/plain": [
       "(10000,)"
      ]
     },
     "execution_count": 24,
     "metadata": {},
     "output_type": "execute_result"
    }
   ],
   "source": [
    "y_test.shape"
   ]
  },
  {
   "cell_type": "code",
   "execution_count": 25,
   "metadata": {},
   "outputs": [],
   "source": [
    "y_train_oh = one_hot(y_train)\n",
    "y_test_oh = one_hot(y_test)"
   ]
  },
  {
   "cell_type": "markdown",
   "metadata": {},
   "source": [
    "## Example of Training Model"
   ]
  },
  {
   "cell_type": "code",
   "execution_count": 26,
   "metadata": {},
   "outputs": [
    {
     "name": "stdout",
     "output_type": "stream",
     "text": [
      "[=================================================>] 100%\n",
      "Epoch 1/10 - 3.57s - loss: 0.4895 - accuracy: 0.9205 - val_loss: 0.2669 - val_accuracy: 0.9204\n",
      "[=================================================>] 100%\n",
      "Epoch 2/10 - 3.33s - loss: 0.2263 - accuracy: 0.9468 - val_loss: 0.1870 - val_accuracy: 0.9446\n",
      "[=================================================>] 100%\n",
      "Epoch 3/10 - 3.74s - loss: 0.1676 - accuracy: 0.9577 - val_loss: 0.1508 - val_accuracy: 0.9539\n",
      "[=================================================>] 100%\n",
      "Epoch 4/10 - 3.57s - loss: 0.1329 - accuracy: 0.9656 - val_loss: 0.1305 - val_accuracy: 0.9593\n",
      "[=================================================>] 100%\n",
      "Epoch 5/10 - 3.75s - loss: 0.1106 - accuracy: 0.9723 - val_loss: 0.1133 - val_accuracy: 0.9652\n",
      "[=================================================>] 100%\n",
      "Epoch 6/10 - 3.85s - loss: 0.0942 - accuracy: 0.9745 - val_loss: 0.1053 - val_accuracy: 0.9691\n",
      "[=================================================>] 100%\n",
      "Epoch 7/10 - 4.55s - loss: 0.0818 - accuracy: 0.9786 - val_loss: 0.0996 - val_accuracy: 0.9710\n",
      "[=================================================>] 100%\n",
      "Epoch 8/10 - 5.88s - loss: 0.0717 - accuracy: 0.9823 - val_loss: 0.0900 - val_accuracy: 0.9733\n",
      "[=================================================>] 100%\n",
      "Epoch 9/10 - 4.46s - loss: 0.0643 - accuracy: 0.9839 - val_loss: 0.0860 - val_accuracy: 0.9740\n",
      "[=================================================>] 100%\n",
      "Epoch 10/10 - 3.36s - loss: 0.0566 - accuracy: 0.9860 - val_loss: 0.0799 - val_accuracy: 0.9753\n"
     ]
    }
   ],
   "source": [
    "model = NeuralNetwork('categorical_cross_entropy')\n",
    "# model.add_layer(DenseLayer(output_size=128,activation=relu, init=\"Xavier\"))\n",
    "# model.add_layer(DenseLayer(output_size=64, activation=relu, init=\"Xavier\"))\n",
    "# model.add_layer(DenseLayer(output_size=10, activation=sigmoid, init=\"Xavier\"))\n",
    "model.add_layer(DenseLayer(output_size=128,activation=relu, init=\"Xavier\", reg_type=\"l2\"))\n",
    "model.add_layer(DenseLayer(output_size=64, activation=relu, init=\"Xavier\", reg_type=\"l2\"))\n",
    "model.add_layer(DenseLayer(output_size=10, activation=softmax, init=\"Xavier\", reg_type=\"l2\"))\n",
    "\n",
    "history = model.train(\n",
    "    X_train,\n",
    "    y_train,\n",
    "    epochs=10,\n",
    "    batch_size=64,\n",
    "    learning_rate=0.05,\n",
    "    isOne_hot=True,\n",
    "    verbose=1,\n",
    "    validation_data=(X_test, y_test)\n",
    ")"
   ]
  },
  {
   "cell_type": "code",
   "execution_count": 27,
   "metadata": {},
   "outputs": [
    {
     "name": "stdout",
     "output_type": "stream",
     "text": [
      "Test Accuracy: 0.9753\n"
     ]
    }
   ],
   "source": [
    "predictions = model.predict(X_test)\n",
    "pred_classes = np.argmax(predictions, axis=1)\n",
    "accuracy = accuracy_score(pred_classes, y_test)\n",
    "print(\"Test Accuracy:\", accuracy)"
   ]
  },
  {
   "cell_type": "markdown",
   "metadata": {},
   "source": [
    "### Example of visualizing trained model"
   ]
  },
  {
   "cell_type": "code",
   "execution_count": 30,
   "metadata": {},
   "outputs": [],
   "source": [
    "model.visualize(output_dir='../ann_visualizer/output/', filename='testing')"
   ]
  }
 ],
 "metadata": {
  "kernelspec": {
   "display_name": "Python 3",
   "language": "python",
   "name": "python3"
  },
  "language_info": {
   "codemirror_mode": {
    "name": "ipython",
    "version": 3
   },
   "file_extension": ".py",
   "mimetype": "text/x-python",
   "name": "python",
   "nbconvert_exporter": "python",
   "pygments_lexer": "ipython3",
   "version": "3.12.2"
  }
 },
 "nbformat": 4,
 "nbformat_minor": 2
}
