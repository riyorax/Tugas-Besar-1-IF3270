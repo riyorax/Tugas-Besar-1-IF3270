{
 "cells": [
  {
   "cell_type": "markdown",
   "metadata": {},
   "source": [
    "# IF3270 Pembelajaran Mesin | Tugas Besar - Feedforward Neural Network"
   ]
  },
  {
   "cell_type": "markdown",
   "metadata": {},
   "source": [
    "Group Members:\n",
    "- Maximilian Sulistiyo (13522061)\n",
    "- Marvel Pangondian (13522075)\n",
    "- Abdullah Mubarak (13522101)"
   ]
  },
  {
   "cell_type": "markdown",
   "metadata": {},
   "source": [
    "In this project, we implement a custom built Feedforward Neural Network with no high-level libraries. The goal in this project is to be able to create a custom FFNN that is able to specify the type of activation function on each layer, the type of loss function, and how many neurons in each layer. We will also compare our algorithm with other built in algorithm (the sklearn MLP)"
   ]
  },
  {
   "cell_type": "markdown",
   "metadata": {},
   "source": [
    "## Import Libraries"
   ]
  },
  {
   "cell_type": "code",
   "execution_count": 1,
   "metadata": {},
   "outputs": [],
   "source": [
    "import numpy as np\n",
    "import pandas as pd\n",
    "from ann import NeuralNetwork, one_hot, get_accuracy\n",
    "from dense_layer import DenseLayer\n",
    "from activations import *\n",
    "from visualizer import visualize_ann\n",
    "import matplotlib.pyplot as plt\n",
    "from sklearn.datasets import fetch_openml\n",
    "from sklearn.model_selection import train_test_split\n",
    "from sklearn.neural_network import MLPClassifier\n",
    "from sklearn.metrics import accuracy_score, classification_report\n",
    "from activations import tanh, sigmoid, relu"
   ]
  },
  {
   "cell_type": "markdown",
   "metadata": {},
   "source": [
    "## Import Dataset"
   ]
  },
  {
   "cell_type": "markdown",
   "metadata": {},
   "source": [
    "### Fetch dataset"
   ]
  },
  {
   "cell_type": "code",
   "execution_count": 2,
   "metadata": {},
   "outputs": [],
   "source": [
    "X, y = fetch_openml(\"mnist_784\", version=1, return_X_y=True, as_frame=False)"
   ]
  },
  {
   "cell_type": "code",
   "execution_count": 3,
   "metadata": {},
   "outputs": [
    {
     "data": {
      "text/plain": [
       "(70000, 784)"
      ]
     },
     "execution_count": 3,
     "metadata": {},
     "output_type": "execute_result"
    }
   ],
   "source": [
    "X.shape"
   ]
  },
  {
   "cell_type": "code",
   "execution_count": 4,
   "metadata": {},
   "outputs": [
    {
     "data": {
      "text/plain": [
       "(70000,)"
      ]
     },
     "execution_count": 4,
     "metadata": {},
     "output_type": "execute_result"
    }
   ],
   "source": [
    "y.shape"
   ]
  },
  {
   "cell_type": "markdown",
   "metadata": {},
   "source": [
    "### Copy dataset and normalize"
   ]
  },
  {
   "cell_type": "code",
   "execution_count": 5,
   "metadata": {},
   "outputs": [],
   "source": [
    "X_original = X.copy()\n",
    "X_original = X_original/255.0\n",
    "y_original = y.copy()\n",
    "y_original = y_original.astype(int)"
   ]
  },
  {
   "cell_type": "markdown",
   "metadata": {},
   "source": [
    "### Split dataset"
   ]
  },
  {
   "cell_type": "code",
   "execution_count": 7,
   "metadata": {},
   "outputs": [],
   "source": [
    "X_train, X_test, y_train, y_test = train_test_split(X_original, y_original, train_size=60000, test_size=10000, stratify=y)"
   ]
  },
  {
   "cell_type": "code",
   "execution_count": 8,
   "metadata": {},
   "outputs": [],
   "source": [
    "y_train_oh = one_hot(y_train)\n",
    "y_test_oh = one_hot(y_test)"
   ]
  },
  {
   "cell_type": "markdown",
   "metadata": {},
   "source": [
    "## Example of Training Model"
   ]
  },
  {
   "cell_type": "code",
   "execution_count": 11,
   "metadata": {},
   "outputs": [
    {
     "name": "stdout",
     "output_type": "stream",
     "text": [
      "[=================================================>] 100%\n",
      "Epoch 1/10 - 2.58s - loss: 0.1007 - accuracy: 0.4027 - val_loss: 0.0839 - val_accuracy: 0.4011\n",
      "[=================================================>] 100%\n",
      "Epoch 2/10 - 2.51s - loss: 0.0750 - accuracy: 0.6186 - val_loss: 0.0651 - val_accuracy: 0.6165\n",
      "[=================================================>] 100%\n",
      "Epoch 3/10 - 2.75s - loss: 0.0559 - accuracy: 0.7747 - val_loss: 0.0482 - val_accuracy: 0.7750\n",
      "[=================================================>] 100%\n",
      "Epoch 4/10 - 2.73s - loss: 0.0422 - accuracy: 0.8407 - val_loss: 0.0375 - val_accuracy: 0.8406\n",
      "[=================================================>] 100%\n",
      "Epoch 5/10 - 2.64s - loss: 0.0339 - accuracy: 0.8597 - val_loss: 0.0311 - val_accuracy: 0.8606\n",
      "[=================================================>] 100%\n",
      "Epoch 6/10 - 2.68s - loss: 0.0288 - accuracy: 0.8740 - val_loss: 0.0271 - val_accuracy: 0.8728\n",
      "[=================================================>] 100%\n",
      "Epoch 7/10 - 2.83s - loss: 0.0255 - accuracy: 0.8827 - val_loss: 0.0245 - val_accuracy: 0.8821\n",
      "[=================================================>] 100%\n",
      "Epoch 8/10 - 2.77s - loss: 0.0233 - accuracy: 0.8885 - val_loss: 0.0225 - val_accuracy: 0.8879\n",
      "[=================================================>] 100%\n",
      "Epoch 9/10 - 3.02s - loss: 0.0216 - accuracy: 0.8929 - val_loss: 0.0211 - val_accuracy: 0.8927\n",
      "[=================================================>] 100%\n",
      "Epoch 10/10 - 2.98s - loss: 0.0204 - accuracy: 0.8962 - val_loss: 0.0200 - val_accuracy: 0.8964\n"
     ]
    }
   ],
   "source": [
    "model = NeuralNetwork('mse')\n",
    "model.add_layer(DenseLayer(output_size=128, activation=relu, init=\"Xavier\"))\n",
    "model.add_layer(DenseLayer(output_size=64, activation=relu, init=\"Xavier\"))\n",
    "model.add_layer(DenseLayer(output_size=10, activation=sigmoid, init=\"Xavier\"))\n",
    "\n",
    "history = model.train(\n",
    "    X_train,\n",
    "    y_train,\n",
    "    epochs=10,\n",
    "    batch_size=64,\n",
    "    learning_rate=0.05,\n",
    "    isOne_hot=True,\n",
    "    verbose=1,\n",
    "    validation_data=(X_test, y_test)\n",
    ")"
   ]
  },
  {
   "cell_type": "code",
   "execution_count": 12,
   "metadata": {},
   "outputs": [
    {
     "name": "stdout",
     "output_type": "stream",
     "text": [
      "Test Accuracy: 0.8964\n"
     ]
    }
   ],
   "source": [
    "predictions = model.predict(X_test)\n",
    "pred_classes = np.argmax(predictions, axis=1)\n",
    "accuracy = accuracy_score(pred_classes, y_test)\n",
    "print(\"Test Accuracy:\", accuracy)"
   ]
  },
  {
   "cell_type": "code",
   "execution_count": 13,
   "metadata": {},
   "outputs": [
    {
     "data": {
      "text/plain": [
       "'../ann_visualizer/output/20250327_232302_ann.html'"
      ]
     },
     "execution_count": 13,
     "metadata": {},
     "output_type": "execute_result"
    }
   ],
   "source": [
    "visualize_ann(model,X.shape[1],output_dir='../ann_visualizer/output/')"
   ]
  },
  {
   "cell_type": "markdown",
   "metadata": {},
   "source": [
    "## Analysis"
   ]
  },
  {
   "cell_type": "markdown",
   "metadata": {},
   "source": [
    "### Effect of depth (Number of layers) and Width (Number of neurons per layer)"
   ]
  },
  {
   "cell_type": "markdown",
   "metadata": {},
   "source": [
    "#### Fixed Depth\n",
    "- Number of hidden layers : 2\n",
    "- Test 1 : 32 neurons per layer\n",
    "- Test 2 : 64 neurons per layer\n",
    "- Test 3 : 128 neurons per layer"
   ]
  },
  {
   "cell_type": "markdown",
   "metadata": {},
   "source": [
    "##### Test 1"
   ]
  },
  {
   "cell_type": "code",
   "execution_count": 9,
   "metadata": {},
   "outputs": [
    {
     "name": "stdout",
     "output_type": "stream",
     "text": [
      "[=================================================>] 100%\n",
      "Epoch 1/50 - 1.87s - loss: 0.5491 - accuracy: 0.9090 - val_loss: 0.3063 - val_accuracy: 0.9086\n",
      "[=================================================>] 100%\n",
      "Epoch 2/50 - 1.81s - loss: 0.2556 - accuracy: 0.9402 - val_loss: 0.2144 - val_accuracy: 0.9390\n",
      "[=================================================>] 100%\n",
      "Epoch 3/50 - 1.83s - loss: 0.2032 - accuracy: 0.9483 - val_loss: 0.1872 - val_accuracy: 0.9468\n",
      "[=================================================>] 100%\n",
      "Epoch 4/50 - 1.88s - loss: 0.1706 - accuracy: 0.9443 - val_loss: 0.2025 - val_accuracy: 0.9395\n",
      "[=================================================>] 100%\n",
      "Epoch 5/50 - 1.83s - loss: 0.1509 - accuracy: 0.9572 - val_loss: 0.1600 - val_accuracy: 0.9535\n",
      "[=================================================>] 100%\n",
      "Epoch 6/50 - 1.81s - loss: 0.1355 - accuracy: 0.9633 - val_loss: 0.1413 - val_accuracy: 0.9580\n",
      "[=================================================>] 100%\n",
      "Epoch 7/50 - 1.82s - loss: 0.1242 - accuracy: 0.9636 - val_loss: 0.1446 - val_accuracy: 0.9555\n",
      "[=================================================>] 100%\n",
      "Epoch 8/50 - 1.79s - loss: 0.1137 - accuracy: 0.9644 - val_loss: 0.1406 - val_accuracy: 0.9564\n",
      "[=================================================>] 100%\n",
      "Epoch 9/50 - 1.83s - loss: 0.1065 - accuracy: 0.9710 - val_loss: 0.1256 - val_accuracy: 0.9620\n",
      "[=================================================>] 100%\n",
      "Epoch 10/50 - 1.76s - loss: 0.0992 - accuracy: 0.9731 - val_loss: 0.1239 - val_accuracy: 0.9640\n",
      "[=================================================>] 100%\n",
      "Epoch 11/50 - 1.78s - loss: 0.0933 - accuracy: 0.9766 - val_loss: 0.1152 - val_accuracy: 0.9664\n",
      "[=================================================>] 100%\n",
      "Epoch 12/50 - 1.80s - loss: 0.0876 - accuracy: 0.9775 - val_loss: 0.1145 - val_accuracy: 0.9663\n",
      "[=================================================>] 100%\n",
      "Epoch 13/50 - 1.76s - loss: 0.0829 - accuracy: 0.9788 - val_loss: 0.1095 - val_accuracy: 0.9693\n",
      "[=================================================>] 100%\n",
      "Epoch 14/50 - 2.05s - loss: 0.0783 - accuracy: 0.9712 - val_loss: 0.1318 - val_accuracy: 0.9600\n",
      "[=================================================>] 100%\n",
      "Epoch 15/50 - 1.97s - loss: 0.0744 - accuracy: 0.9758 - val_loss: 0.1200 - val_accuracy: 0.9645\n",
      "[=================================================>] 100%\n",
      "Epoch 16/50 - 1.92s - loss: 0.0709 - accuracy: 0.9795 - val_loss: 0.1172 - val_accuracy: 0.9664\n",
      "[=================================================>] 100%\n",
      "Epoch 17/50 - 2.11s - loss: 0.0678 - accuracy: 0.9820 - val_loss: 0.1116 - val_accuracy: 0.9674\n",
      "[=================================================>] 100%\n",
      "Epoch 18/50 - 2.30s - loss: 0.0644 - accuracy: 0.9732 - val_loss: 0.1413 - val_accuracy: 0.9616\n",
      "[=================================================>] 100%\n",
      "Epoch 19/50 - 2.36s - loss: 0.0619 - accuracy: 0.9818 - val_loss: 0.1117 - val_accuracy: 0.9683\n",
      "[=================================================>] 100%\n",
      "Epoch 20/50 - 2.12s - loss: 0.0583 - accuracy: 0.9841 - val_loss: 0.1139 - val_accuracy: 0.9676\n",
      "[=================================================>] 100%\n",
      "Epoch 21/50 - 2.03s - loss: 0.0568 - accuracy: 0.9831 - val_loss: 0.1156 - val_accuracy: 0.9663\n",
      "[=================================================>] 100%\n",
      "Epoch 22/50 - 2.17s - loss: 0.0539 - accuracy: 0.9868 - val_loss: 0.1075 - val_accuracy: 0.9708\n",
      "[=================================================>] 100%\n",
      "Epoch 23/50 - 1.89s - loss: 0.0515 - accuracy: 0.9874 - val_loss: 0.1065 - val_accuracy: 0.9697\n",
      "[=================================================>] 100%\n",
      "Epoch 24/50 - 3.64s - loss: 0.0495 - accuracy: 0.9780 - val_loss: 0.1326 - val_accuracy: 0.9628\n",
      "[=================================================>] 100%\n",
      "Epoch 25/50 - 2.02s - loss: 0.0478 - accuracy: 0.9825 - val_loss: 0.1268 - val_accuracy: 0.9668\n",
      "[=================================================>] 100%\n",
      "Epoch 26/50 - 1.90s - loss: 0.0455 - accuracy: 0.9875 - val_loss: 0.1130 - val_accuracy: 0.9692\n",
      "[=================================================>] 100%\n",
      "Epoch 27/50 - 1.79s - loss: 0.0447 - accuracy: 0.9870 - val_loss: 0.1161 - val_accuracy: 0.9683\n",
      "[=================================================>] 100%\n",
      "Epoch 28/50 - 1.81s - loss: 0.0422 - accuracy: 0.9879 - val_loss: 0.1160 - val_accuracy: 0.9669\n",
      "[=================================================>] 100%\n",
      "Epoch 29/50 - 1.86s - loss: 0.0405 - accuracy: 0.9886 - val_loss: 0.1159 - val_accuracy: 0.9694\n",
      "[=================================================>] 100%\n",
      "Epoch 30/50 - 1.84s - loss: 0.0395 - accuracy: 0.9881 - val_loss: 0.1176 - val_accuracy: 0.9700\n",
      "[=================================================>] 100%\n",
      "Epoch 31/50 - 1.74s - loss: 0.0381 - accuracy: 0.9911 - val_loss: 0.1139 - val_accuracy: 0.9695\n",
      "[=================================================>] 100%\n",
      "Epoch 32/50 - 2.05s - loss: 0.0364 - accuracy: 0.9878 - val_loss: 0.1272 - val_accuracy: 0.9663\n",
      "[=================================================>] 100%\n",
      "Epoch 33/50 - 2.03s - loss: 0.0346 - accuracy: 0.9920 - val_loss: 0.1135 - val_accuracy: 0.9716\n",
      "[=================================================>] 100%\n",
      "Epoch 34/50 - 1.90s - loss: 0.0335 - accuracy: 0.9919 - val_loss: 0.1203 - val_accuracy: 0.9700\n",
      "[=================================================>] 100%\n",
      "Epoch 35/50 - 1.81s - loss: 0.0319 - accuracy: 0.9799 - val_loss: 0.1540 - val_accuracy: 0.9629\n",
      "[=================================================>] 100%\n",
      "Epoch 36/50 - 1.98s - loss: 0.0317 - accuracy: 0.9855 - val_loss: 0.1359 - val_accuracy: 0.9628\n",
      "[=================================================>] 100%\n",
      "Epoch 37/50 - 2.11s - loss: 0.0302 - accuracy: 0.9918 - val_loss: 0.1266 - val_accuracy: 0.9702\n",
      "[=================================================>] 100%\n",
      "Epoch 38/50 - 2.71s - loss: 0.0289 - accuracy: 0.9916 - val_loss: 0.1271 - val_accuracy: 0.9689\n",
      "[=================================================>] 100%\n",
      "Epoch 39/50 - 2.61s - loss: 0.0286 - accuracy: 0.9922 - val_loss: 0.1250 - val_accuracy: 0.9696\n",
      "[=================================================>] 100%\n",
      "Epoch 40/50 - 1.86s - loss: 0.0259 - accuracy: 0.9925 - val_loss: 0.1290 - val_accuracy: 0.9688\n",
      "[=================================================>] 100%\n",
      "Epoch 41/50 - 2.17s - loss: 0.0263 - accuracy: 0.9943 - val_loss: 0.1262 - val_accuracy: 0.9691\n",
      "[=================================================>] 100%\n",
      "Epoch 42/50 - 2.07s - loss: 0.0250 - accuracy: 0.9934 - val_loss: 0.1293 - val_accuracy: 0.9684\n",
      "[=================================================>] 100%\n",
      "Epoch 43/50 - 2.46s - loss: 0.0231 - accuracy: 0.9946 - val_loss: 0.1339 - val_accuracy: 0.9670\n",
      "[=================================================>] 100%\n",
      "Epoch 44/50 - 2.28s - loss: 0.0230 - accuracy: 0.9946 - val_loss: 0.1332 - val_accuracy: 0.9683\n",
      "[=================================================>] 100%\n",
      "Epoch 45/50 - 2.32s - loss: 0.0217 - accuracy: 0.9909 - val_loss: 0.1425 - val_accuracy: 0.9660\n",
      "[=================================================>] 100%\n",
      "Epoch 46/50 - 3.26s - loss: 0.0221 - accuracy: 0.9955 - val_loss: 0.1331 - val_accuracy: 0.9693\n",
      "[=================================================>] 100%\n",
      "Epoch 47/50 - 3.44s - loss: 0.0207 - accuracy: 0.9944 - val_loss: 0.1417 - val_accuracy: 0.9665\n",
      "[=================================================>] 100%\n",
      "Epoch 48/50 - 1.91s - loss: 0.0200 - accuracy: 0.9935 - val_loss: 0.1446 - val_accuracy: 0.9663\n",
      "[=================================================>] 100%\n",
      "Epoch 49/50 - 1.94s - loss: 0.0185 - accuracy: 0.9857 - val_loss: 0.1658 - val_accuracy: 0.9623\n",
      "[=================================================>] 100%\n",
      "Epoch 50/50 - 1.91s - loss: 0.0187 - accuracy: 0.9970 - val_loss: 0.1380 - val_accuracy: 0.9700\n"
     ]
    }
   ],
   "source": [
    "model_test_1_fixed_depth = NeuralNetwork('categorical_cross_entropy')\n",
    "model_test_1_fixed_depth.add_layer(DenseLayer(output_size=32, activation=relu, init=\"Xavier\"))\n",
    "model_test_1_fixed_depth.add_layer(DenseLayer(output_size=32, activation=relu, init=\"Xavier\"))\n",
    "model_test_1_fixed_depth.add_layer(DenseLayer(output_size=10, activation=softmax, init=\"Xavier\"))\n",
    "\n",
    "history_test_1_fixed_depth = model_test_1_fixed_depth.train(\n",
    "    X_train,\n",
    "    y_train,\n",
    "    epochs=50,\n",
    "    batch_size=64,\n",
    "    learning_rate=0.05,\n",
    "    isOne_hot=True,\n",
    "    verbose=1,\n",
    "    validation_data=(X_test, y_test)\n",
    ")"
   ]
  },
  {
   "cell_type": "code",
   "execution_count": 14,
   "metadata": {},
   "outputs": [
    {
     "name": "stdout",
     "output_type": "stream",
     "text": [
      "Test Accuracy: 0.97\n"
     ]
    }
   ],
   "source": [
    "predictions_test_1_fixed_depth = model_test_1_fixed_depth.predict(X_test)\n",
    "pred_classes_test_1_fixed_depth = np.argmax(predictions_test_1_fixed_depth, axis=1)\n",
    "accuracy_test_1_fixed_depth = accuracy_score(pred_classes_test_1_fixed_depth, y_test)\n",
    "print(\"Test Accuracy:\", accuracy_test_1_fixed_depth)"
   ]
  },
  {
   "cell_type": "code",
   "execution_count": null,
   "metadata": {},
   "outputs": [],
   "source": []
  },
  {
   "cell_type": "markdown",
   "metadata": {},
   "source": [
    "## Compare model with sklearn MLP"
   ]
  },
  {
   "cell_type": "code",
   "execution_count": 16,
   "metadata": {},
   "outputs": [
    {
     "name": "stdout",
     "output_type": "stream",
     "text": [
      "Iteration 1, loss = 0.37724840\n",
      "Iteration 2, loss = 0.15004672\n",
      "Iteration 3, loss = 0.10562821\n",
      "Iteration 4, loss = 0.08064147\n",
      "Iteration 5, loss = 0.06428497\n",
      "Iteration 6, loss = 0.05121985\n",
      "Iteration 7, loss = 0.04219482\n",
      "Iteration 8, loss = 0.03723277\n",
      "Iteration 9, loss = 0.02986735\n",
      "Iteration 10, loss = 0.02325205\n",
      "Iteration 11, loss = 0.02124234\n",
      "Iteration 12, loss = 0.01549812\n",
      "Iteration 13, loss = 0.01433403\n",
      "Iteration 14, loss = 0.01377085\n",
      "Iteration 15, loss = 0.00927998\n",
      "Iteration 16, loss = 0.00973711\n",
      "Iteration 17, loss = 0.01097088\n",
      "Iteration 18, loss = 0.00895768\n",
      "Iteration 19, loss = 0.00620646\n",
      "Iteration 20, loss = 0.00376964\n"
     ]
    },
    {
     "name": "stderr",
     "output_type": "stream",
     "text": [
      "c:\\Users\\User\\AppData\\Local\\Programs\\Python\\Python312\\Lib\\site-packages\\sklearn\\neural_network\\_multilayer_perceptron.py:691: ConvergenceWarning: Stochastic Optimizer: Maximum iterations (20) reached and the optimization hasn't converged yet.\n",
      "  warnings.warn(\n"
     ]
    },
    {
     "data": {
      "text/html": [
       "<style>#sk-container-id-1 {\n",
       "  /* Definition of color scheme common for light and dark mode */\n",
       "  --sklearn-color-text: black;\n",
       "  --sklearn-color-line: gray;\n",
       "  /* Definition of color scheme for unfitted estimators */\n",
       "  --sklearn-color-unfitted-level-0: #fff5e6;\n",
       "  --sklearn-color-unfitted-level-1: #f6e4d2;\n",
       "  --sklearn-color-unfitted-level-2: #ffe0b3;\n",
       "  --sklearn-color-unfitted-level-3: chocolate;\n",
       "  /* Definition of color scheme for fitted estimators */\n",
       "  --sklearn-color-fitted-level-0: #f0f8ff;\n",
       "  --sklearn-color-fitted-level-1: #d4ebff;\n",
       "  --sklearn-color-fitted-level-2: #b3dbfd;\n",
       "  --sklearn-color-fitted-level-3: cornflowerblue;\n",
       "\n",
       "  /* Specific color for light theme */\n",
       "  --sklearn-color-text-on-default-background: var(--sg-text-color, var(--theme-code-foreground, var(--jp-content-font-color1, black)));\n",
       "  --sklearn-color-background: var(--sg-background-color, var(--theme-background, var(--jp-layout-color0, white)));\n",
       "  --sklearn-color-border-box: var(--sg-text-color, var(--theme-code-foreground, var(--jp-content-font-color1, black)));\n",
       "  --sklearn-color-icon: #696969;\n",
       "\n",
       "  @media (prefers-color-scheme: dark) {\n",
       "    /* Redefinition of color scheme for dark theme */\n",
       "    --sklearn-color-text-on-default-background: var(--sg-text-color, var(--theme-code-foreground, var(--jp-content-font-color1, white)));\n",
       "    --sklearn-color-background: var(--sg-background-color, var(--theme-background, var(--jp-layout-color0, #111)));\n",
       "    --sklearn-color-border-box: var(--sg-text-color, var(--theme-code-foreground, var(--jp-content-font-color1, white)));\n",
       "    --sklearn-color-icon: #878787;\n",
       "  }\n",
       "}\n",
       "\n",
       "#sk-container-id-1 {\n",
       "  color: var(--sklearn-color-text);\n",
       "}\n",
       "\n",
       "#sk-container-id-1 pre {\n",
       "  padding: 0;\n",
       "}\n",
       "\n",
       "#sk-container-id-1 input.sk-hidden--visually {\n",
       "  border: 0;\n",
       "  clip: rect(1px 1px 1px 1px);\n",
       "  clip: rect(1px, 1px, 1px, 1px);\n",
       "  height: 1px;\n",
       "  margin: -1px;\n",
       "  overflow: hidden;\n",
       "  padding: 0;\n",
       "  position: absolute;\n",
       "  width: 1px;\n",
       "}\n",
       "\n",
       "#sk-container-id-1 div.sk-dashed-wrapped {\n",
       "  border: 1px dashed var(--sklearn-color-line);\n",
       "  margin: 0 0.4em 0.5em 0.4em;\n",
       "  box-sizing: border-box;\n",
       "  padding-bottom: 0.4em;\n",
       "  background-color: var(--sklearn-color-background);\n",
       "}\n",
       "\n",
       "#sk-container-id-1 div.sk-container {\n",
       "  /* jupyter's `normalize.less` sets `[hidden] { display: none; }`\n",
       "     but bootstrap.min.css set `[hidden] { display: none !important; }`\n",
       "     so we also need the `!important` here to be able to override the\n",
       "     default hidden behavior on the sphinx rendered scikit-learn.org.\n",
       "     See: https://github.com/scikit-learn/scikit-learn/issues/21755 */\n",
       "  display: inline-block !important;\n",
       "  position: relative;\n",
       "}\n",
       "\n",
       "#sk-container-id-1 div.sk-text-repr-fallback {\n",
       "  display: none;\n",
       "}\n",
       "\n",
       "div.sk-parallel-item,\n",
       "div.sk-serial,\n",
       "div.sk-item {\n",
       "  /* draw centered vertical line to link estimators */\n",
       "  background-image: linear-gradient(var(--sklearn-color-text-on-default-background), var(--sklearn-color-text-on-default-background));\n",
       "  background-size: 2px 100%;\n",
       "  background-repeat: no-repeat;\n",
       "  background-position: center center;\n",
       "}\n",
       "\n",
       "/* Parallel-specific style estimator block */\n",
       "\n",
       "#sk-container-id-1 div.sk-parallel-item::after {\n",
       "  content: \"\";\n",
       "  width: 100%;\n",
       "  border-bottom: 2px solid var(--sklearn-color-text-on-default-background);\n",
       "  flex-grow: 1;\n",
       "}\n",
       "\n",
       "#sk-container-id-1 div.sk-parallel {\n",
       "  display: flex;\n",
       "  align-items: stretch;\n",
       "  justify-content: center;\n",
       "  background-color: var(--sklearn-color-background);\n",
       "  position: relative;\n",
       "}\n",
       "\n",
       "#sk-container-id-1 div.sk-parallel-item {\n",
       "  display: flex;\n",
       "  flex-direction: column;\n",
       "}\n",
       "\n",
       "#sk-container-id-1 div.sk-parallel-item:first-child::after {\n",
       "  align-self: flex-end;\n",
       "  width: 50%;\n",
       "}\n",
       "\n",
       "#sk-container-id-1 div.sk-parallel-item:last-child::after {\n",
       "  align-self: flex-start;\n",
       "  width: 50%;\n",
       "}\n",
       "\n",
       "#sk-container-id-1 div.sk-parallel-item:only-child::after {\n",
       "  width: 0;\n",
       "}\n",
       "\n",
       "/* Serial-specific style estimator block */\n",
       "\n",
       "#sk-container-id-1 div.sk-serial {\n",
       "  display: flex;\n",
       "  flex-direction: column;\n",
       "  align-items: center;\n",
       "  background-color: var(--sklearn-color-background);\n",
       "  padding-right: 1em;\n",
       "  padding-left: 1em;\n",
       "}\n",
       "\n",
       "\n",
       "/* Toggleable style: style used for estimator/Pipeline/ColumnTransformer box that is\n",
       "clickable and can be expanded/collapsed.\n",
       "- Pipeline and ColumnTransformer use this feature and define the default style\n",
       "- Estimators will overwrite some part of the style using the `sk-estimator` class\n",
       "*/\n",
       "\n",
       "/* Pipeline and ColumnTransformer style (default) */\n",
       "\n",
       "#sk-container-id-1 div.sk-toggleable {\n",
       "  /* Default theme specific background. It is overwritten whether we have a\n",
       "  specific estimator or a Pipeline/ColumnTransformer */\n",
       "  background-color: var(--sklearn-color-background);\n",
       "}\n",
       "\n",
       "/* Toggleable label */\n",
       "#sk-container-id-1 label.sk-toggleable__label {\n",
       "  cursor: pointer;\n",
       "  display: block;\n",
       "  width: 100%;\n",
       "  margin-bottom: 0;\n",
       "  padding: 0.5em;\n",
       "  box-sizing: border-box;\n",
       "  text-align: center;\n",
       "}\n",
       "\n",
       "#sk-container-id-1 label.sk-toggleable__label-arrow:before {\n",
       "  /* Arrow on the left of the label */\n",
       "  content: \"▸\";\n",
       "  float: left;\n",
       "  margin-right: 0.25em;\n",
       "  color: var(--sklearn-color-icon);\n",
       "}\n",
       "\n",
       "#sk-container-id-1 label.sk-toggleable__label-arrow:hover:before {\n",
       "  color: var(--sklearn-color-text);\n",
       "}\n",
       "\n",
       "/* Toggleable content - dropdown */\n",
       "\n",
       "#sk-container-id-1 div.sk-toggleable__content {\n",
       "  max-height: 0;\n",
       "  max-width: 0;\n",
       "  overflow: hidden;\n",
       "  text-align: left;\n",
       "  /* unfitted */\n",
       "  background-color: var(--sklearn-color-unfitted-level-0);\n",
       "}\n",
       "\n",
       "#sk-container-id-1 div.sk-toggleable__content.fitted {\n",
       "  /* fitted */\n",
       "  background-color: var(--sklearn-color-fitted-level-0);\n",
       "}\n",
       "\n",
       "#sk-container-id-1 div.sk-toggleable__content pre {\n",
       "  margin: 0.2em;\n",
       "  border-radius: 0.25em;\n",
       "  color: var(--sklearn-color-text);\n",
       "  /* unfitted */\n",
       "  background-color: var(--sklearn-color-unfitted-level-0);\n",
       "}\n",
       "\n",
       "#sk-container-id-1 div.sk-toggleable__content.fitted pre {\n",
       "  /* unfitted */\n",
       "  background-color: var(--sklearn-color-fitted-level-0);\n",
       "}\n",
       "\n",
       "#sk-container-id-1 input.sk-toggleable__control:checked~div.sk-toggleable__content {\n",
       "  /* Expand drop-down */\n",
       "  max-height: 200px;\n",
       "  max-width: 100%;\n",
       "  overflow: auto;\n",
       "}\n",
       "\n",
       "#sk-container-id-1 input.sk-toggleable__control:checked~label.sk-toggleable__label-arrow:before {\n",
       "  content: \"▾\";\n",
       "}\n",
       "\n",
       "/* Pipeline/ColumnTransformer-specific style */\n",
       "\n",
       "#sk-container-id-1 div.sk-label input.sk-toggleable__control:checked~label.sk-toggleable__label {\n",
       "  color: var(--sklearn-color-text);\n",
       "  background-color: var(--sklearn-color-unfitted-level-2);\n",
       "}\n",
       "\n",
       "#sk-container-id-1 div.sk-label.fitted input.sk-toggleable__control:checked~label.sk-toggleable__label {\n",
       "  background-color: var(--sklearn-color-fitted-level-2);\n",
       "}\n",
       "\n",
       "/* Estimator-specific style */\n",
       "\n",
       "/* Colorize estimator box */\n",
       "#sk-container-id-1 div.sk-estimator input.sk-toggleable__control:checked~label.sk-toggleable__label {\n",
       "  /* unfitted */\n",
       "  background-color: var(--sklearn-color-unfitted-level-2);\n",
       "}\n",
       "\n",
       "#sk-container-id-1 div.sk-estimator.fitted input.sk-toggleable__control:checked~label.sk-toggleable__label {\n",
       "  /* fitted */\n",
       "  background-color: var(--sklearn-color-fitted-level-2);\n",
       "}\n",
       "\n",
       "#sk-container-id-1 div.sk-label label.sk-toggleable__label,\n",
       "#sk-container-id-1 div.sk-label label {\n",
       "  /* The background is the default theme color */\n",
       "  color: var(--sklearn-color-text-on-default-background);\n",
       "}\n",
       "\n",
       "/* On hover, darken the color of the background */\n",
       "#sk-container-id-1 div.sk-label:hover label.sk-toggleable__label {\n",
       "  color: var(--sklearn-color-text);\n",
       "  background-color: var(--sklearn-color-unfitted-level-2);\n",
       "}\n",
       "\n",
       "/* Label box, darken color on hover, fitted */\n",
       "#sk-container-id-1 div.sk-label.fitted:hover label.sk-toggleable__label.fitted {\n",
       "  color: var(--sklearn-color-text);\n",
       "  background-color: var(--sklearn-color-fitted-level-2);\n",
       "}\n",
       "\n",
       "/* Estimator label */\n",
       "\n",
       "#sk-container-id-1 div.sk-label label {\n",
       "  font-family: monospace;\n",
       "  font-weight: bold;\n",
       "  display: inline-block;\n",
       "  line-height: 1.2em;\n",
       "}\n",
       "\n",
       "#sk-container-id-1 div.sk-label-container {\n",
       "  text-align: center;\n",
       "}\n",
       "\n",
       "/* Estimator-specific */\n",
       "#sk-container-id-1 div.sk-estimator {\n",
       "  font-family: monospace;\n",
       "  border: 1px dotted var(--sklearn-color-border-box);\n",
       "  border-radius: 0.25em;\n",
       "  box-sizing: border-box;\n",
       "  margin-bottom: 0.5em;\n",
       "  /* unfitted */\n",
       "  background-color: var(--sklearn-color-unfitted-level-0);\n",
       "}\n",
       "\n",
       "#sk-container-id-1 div.sk-estimator.fitted {\n",
       "  /* fitted */\n",
       "  background-color: var(--sklearn-color-fitted-level-0);\n",
       "}\n",
       "\n",
       "/* on hover */\n",
       "#sk-container-id-1 div.sk-estimator:hover {\n",
       "  /* unfitted */\n",
       "  background-color: var(--sklearn-color-unfitted-level-2);\n",
       "}\n",
       "\n",
       "#sk-container-id-1 div.sk-estimator.fitted:hover {\n",
       "  /* fitted */\n",
       "  background-color: var(--sklearn-color-fitted-level-2);\n",
       "}\n",
       "\n",
       "/* Specification for estimator info (e.g. \"i\" and \"?\") */\n",
       "\n",
       "/* Common style for \"i\" and \"?\" */\n",
       "\n",
       ".sk-estimator-doc-link,\n",
       "a:link.sk-estimator-doc-link,\n",
       "a:visited.sk-estimator-doc-link {\n",
       "  float: right;\n",
       "  font-size: smaller;\n",
       "  line-height: 1em;\n",
       "  font-family: monospace;\n",
       "  background-color: var(--sklearn-color-background);\n",
       "  border-radius: 1em;\n",
       "  height: 1em;\n",
       "  width: 1em;\n",
       "  text-decoration: none !important;\n",
       "  margin-left: 1ex;\n",
       "  /* unfitted */\n",
       "  border: var(--sklearn-color-unfitted-level-1) 1pt solid;\n",
       "  color: var(--sklearn-color-unfitted-level-1);\n",
       "}\n",
       "\n",
       ".sk-estimator-doc-link.fitted,\n",
       "a:link.sk-estimator-doc-link.fitted,\n",
       "a:visited.sk-estimator-doc-link.fitted {\n",
       "  /* fitted */\n",
       "  border: var(--sklearn-color-fitted-level-1) 1pt solid;\n",
       "  color: var(--sklearn-color-fitted-level-1);\n",
       "}\n",
       "\n",
       "/* On hover */\n",
       "div.sk-estimator:hover .sk-estimator-doc-link:hover,\n",
       ".sk-estimator-doc-link:hover,\n",
       "div.sk-label-container:hover .sk-estimator-doc-link:hover,\n",
       ".sk-estimator-doc-link:hover {\n",
       "  /* unfitted */\n",
       "  background-color: var(--sklearn-color-unfitted-level-3);\n",
       "  color: var(--sklearn-color-background);\n",
       "  text-decoration: none;\n",
       "}\n",
       "\n",
       "div.sk-estimator.fitted:hover .sk-estimator-doc-link.fitted:hover,\n",
       ".sk-estimator-doc-link.fitted:hover,\n",
       "div.sk-label-container:hover .sk-estimator-doc-link.fitted:hover,\n",
       ".sk-estimator-doc-link.fitted:hover {\n",
       "  /* fitted */\n",
       "  background-color: var(--sklearn-color-fitted-level-3);\n",
       "  color: var(--sklearn-color-background);\n",
       "  text-decoration: none;\n",
       "}\n",
       "\n",
       "/* Span, style for the box shown on hovering the info icon */\n",
       ".sk-estimator-doc-link span {\n",
       "  display: none;\n",
       "  z-index: 9999;\n",
       "  position: relative;\n",
       "  font-weight: normal;\n",
       "  right: .2ex;\n",
       "  padding: .5ex;\n",
       "  margin: .5ex;\n",
       "  width: min-content;\n",
       "  min-width: 20ex;\n",
       "  max-width: 50ex;\n",
       "  color: var(--sklearn-color-text);\n",
       "  box-shadow: 2pt 2pt 4pt #999;\n",
       "  /* unfitted */\n",
       "  background: var(--sklearn-color-unfitted-level-0);\n",
       "  border: .5pt solid var(--sklearn-color-unfitted-level-3);\n",
       "}\n",
       "\n",
       ".sk-estimator-doc-link.fitted span {\n",
       "  /* fitted */\n",
       "  background: var(--sklearn-color-fitted-level-0);\n",
       "  border: var(--sklearn-color-fitted-level-3);\n",
       "}\n",
       "\n",
       ".sk-estimator-doc-link:hover span {\n",
       "  display: block;\n",
       "}\n",
       "\n",
       "/* \"?\"-specific style due to the `<a>` HTML tag */\n",
       "\n",
       "#sk-container-id-1 a.estimator_doc_link {\n",
       "  float: right;\n",
       "  font-size: 1rem;\n",
       "  line-height: 1em;\n",
       "  font-family: monospace;\n",
       "  background-color: var(--sklearn-color-background);\n",
       "  border-radius: 1rem;\n",
       "  height: 1rem;\n",
       "  width: 1rem;\n",
       "  text-decoration: none;\n",
       "  /* unfitted */\n",
       "  color: var(--sklearn-color-unfitted-level-1);\n",
       "  border: var(--sklearn-color-unfitted-level-1) 1pt solid;\n",
       "}\n",
       "\n",
       "#sk-container-id-1 a.estimator_doc_link.fitted {\n",
       "  /* fitted */\n",
       "  border: var(--sklearn-color-fitted-level-1) 1pt solid;\n",
       "  color: var(--sklearn-color-fitted-level-1);\n",
       "}\n",
       "\n",
       "/* On hover */\n",
       "#sk-container-id-1 a.estimator_doc_link:hover {\n",
       "  /* unfitted */\n",
       "  background-color: var(--sklearn-color-unfitted-level-3);\n",
       "  color: var(--sklearn-color-background);\n",
       "  text-decoration: none;\n",
       "}\n",
       "\n",
       "#sk-container-id-1 a.estimator_doc_link.fitted:hover {\n",
       "  /* fitted */\n",
       "  background-color: var(--sklearn-color-fitted-level-3);\n",
       "}\n",
       "</style><div id=\"sk-container-id-1\" class=\"sk-top-container\"><div class=\"sk-text-repr-fallback\"><pre>MLPClassifier(hidden_layer_sizes=(128, 64), max_iter=20, random_state=1,\n",
       "              verbose=True)</pre><b>In a Jupyter environment, please rerun this cell to show the HTML representation or trust the notebook. <br />On GitHub, the HTML representation is unable to render, please try loading this page with nbviewer.org.</b></div><div class=\"sk-container\" hidden><div class=\"sk-item\"><div class=\"sk-estimator fitted sk-toggleable\"><input class=\"sk-toggleable__control sk-hidden--visually\" id=\"sk-estimator-id-1\" type=\"checkbox\" checked><label for=\"sk-estimator-id-1\" class=\"sk-toggleable__label fitted sk-toggleable__label-arrow fitted\">&nbsp;&nbsp;MLPClassifier<a class=\"sk-estimator-doc-link fitted\" rel=\"noreferrer\" target=\"_blank\" href=\"https://scikit-learn.org/1.4/modules/generated/sklearn.neural_network.MLPClassifier.html\">?<span>Documentation for MLPClassifier</span></a><span class=\"sk-estimator-doc-link fitted\">i<span>Fitted</span></span></label><div class=\"sk-toggleable__content fitted\"><pre>MLPClassifier(hidden_layer_sizes=(128, 64), max_iter=20, random_state=1,\n",
       "              verbose=True)</pre></div> </div></div></div></div>"
      ],
      "text/plain": [
       "MLPClassifier(hidden_layer_sizes=(128, 64), max_iter=20, random_state=1,\n",
       "              verbose=True)"
      ]
     },
     "execution_count": 16,
     "metadata": {},
     "output_type": "execute_result"
    }
   ],
   "source": [
    "mlp = MLPClassifier(hidden_layer_sizes=(128, 64),activation='relu', \n",
    "                    solver='adam', max_iter=20, random_state=1, verbose=True)\n",
    "\n",
    "mlp.fit(X_train, y_train)"
   ]
  },
  {
   "cell_type": "code",
   "execution_count": 17,
   "metadata": {},
   "outputs": [
    {
     "name": "stdout",
     "output_type": "stream",
     "text": [
      "MLPClassifier Test Accuracy: 0.9790\n"
     ]
    }
   ],
   "source": [
    "y_pred_mlp = mlp.predict(X_test)\n",
    "acc_mlp = accuracy_score(y_test, y_pred_mlp)\n",
    "print(f\"MLPClassifier Test Accuracy: {acc_mlp:.4f}\")"
   ]
  },
  {
   "cell_type": "code",
   "execution_count": 18,
   "metadata": {},
   "outputs": [
    {
     "name": "stdout",
     "output_type": "stream",
     "text": [
      "              precision    recall  f1-score   support\n",
      "\n",
      "           0       0.99      0.99      0.99       986\n",
      "           1       0.99      0.99      0.99      1125\n",
      "           2       0.97      0.98      0.98       999\n",
      "           3       0.99      0.95      0.97      1020\n",
      "           4       0.98      0.98      0.98       975\n",
      "           5       0.96      0.98      0.97       902\n",
      "           6       0.99      0.99      0.99       982\n",
      "           7       0.98      0.98      0.98      1042\n",
      "           8       0.98      0.97      0.97       975\n",
      "           9       0.95      0.99      0.97       994\n",
      "\n",
      "    accuracy                           0.98     10000\n",
      "   macro avg       0.98      0.98      0.98     10000\n",
      "weighted avg       0.98      0.98      0.98     10000\n",
      "\n"
     ]
    }
   ],
   "source": [
    "print(classification_report(y_test, y_pred_mlp))"
   ]
  }
 ],
 "metadata": {
  "kernelspec": {
   "display_name": "Python 3",
   "language": "python",
   "name": "python3"
  },
  "language_info": {
   "codemirror_mode": {
    "name": "ipython",
    "version": 3
   },
   "file_extension": ".py",
   "mimetype": "text/x-python",
   "name": "python",
   "nbconvert_exporter": "python",
   "pygments_lexer": "ipython3",
   "version": "3.12.2"
  }
 },
 "nbformat": 4,
 "nbformat_minor": 2
}
